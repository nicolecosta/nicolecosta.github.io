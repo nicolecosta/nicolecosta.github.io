{
 "cells": [
  {
   "cell_type": "markdown",
   "metadata": {},
   "source": [
    "# <font color=orange>Gatsby JS</font>\n",
    "Nicole Sarvasi Alves da Costa"
   ]
  },
  {
   "cell_type": "markdown",
   "metadata": {},
   "source": [
    "**_\"Gatsby é um framework baseado no React que ajuda desenvolvedores construírem rápidos websites e aplicativos.\"_** (Gatsby website)"
   ]
  },
  {
   "cell_type": "markdown",
   "metadata": {},
   "source": [
    "### O que é o Gatsby?"
   ]
  },
  {
   "cell_type": "markdown",
   "metadata": {},
   "source": [
    "Gatsby é um _static site generator_, ou seja, gerador de sites estáticos. Ele utiliza uma poderosa preconfiguração para construir websites que usam apenas _static files_ para o carregamento super rápido de páginas. \n",
    "\n",
    "Gatsby usa o GraphQL para construir as camadas de dados do website. Ele coleta os dados de onde for que seja e no momento da construção do website, cria um servidor do GraphQL interno de todos esses dados. \n",
    "\n"
   ]
  },
  {
   "cell_type": "markdown",
   "metadata": {},
   "source": [
    "### Quando o Gatsby é utilizado?\n",
    "\n",
    "- **Rapidez**\n",
    "\n",
    "O Gatsby é utilizado quando o desenvolvedor quer que o tempo de carregamento da página seja rápido para melhorar a experiência do usuário, uma vez que a base de dados pré-carregada fazem que sites estáticos carreguem rapidamente.\n",
    "\n",
    "- **Segurança**\n",
    "\n",
    "Como não existe uma base de dados do lado do servidor, não tem nada que possa ser hackeado. \n",
    "\n",
    "- **Experiência do Desenvolvedor**\n",
    "\n",
    "A configuração do site é mais direta, ou seja, o desenvolvedor precisa apenas \"dar um push\" nas alterações que fez no código e elas imediatamente são atualizadas na web.\n"
   ]
  },
  {
   "cell_type": "markdown",
   "metadata": {},
   "source": [
    "Alguns exemplos de websites que utilizam o Gatsby: \n",
    " - <a href=https://reactjs.org/>reactjs.org</a>\n",
    " - <a href=https://www.gatsbyjs.org/>gatsbyjs.org</a>\n",
    " - <a href=https://www.freecodecamp.org/learn/>learn.freecodecamp.org</a>\n",
    " - <a href=https://www.apollographql.com/>apollographql.com</a>\n",
    " - <a href=https://marvelapp.com/>marvelapp.com</a>"
   ]
  },
  {
   "cell_type": "markdown",
   "metadata": {},
   "source": [
    "# <font color=orange>TUTORIAL</font>"
   ]
  },
  {
   "cell_type": "markdown",
   "metadata": {},
   "source": [
    "### Descrição\n",
    "Esse será um tutorial de como criar uma landing page usando componentes do Gatsby."
   ]
  },
  {
   "cell_type": "markdown",
   "metadata": {},
   "source": [
    "Para começarmos a utilizar o GatsbyJS, é necessário fazer a instalação do Node.js(plataforma que nos permite a execução do JavaScript fora do navegador) e do Git(sistema que permite que vários desenvolvedores trabalhem no mesmo projeto e que salva o histórico de alterações do código). "
   ]
  },
  {
   "cell_type": "markdown",
   "metadata": {},
   "source": [
    "#### Instalando o Node.js\n",
    "Para isso, entre no site <a href=https://nodejs.org/en/>Node.js</a> e faça o download da versão compatível com seu computador. \n"
   ]
  },
  {
   "cell_type": "markdown",
   "metadata": {},
   "source": [
    "#### Instalando o Git\n",
    " Para isso, entre no site <a href=https://git-scm.com/>Git</a> e faça o download da versão compatível com seu computador."
   ]
  },
  {
   "cell_type": "markdown",
   "metadata": {},
   "source": [
    "Depois da instalação desses dois proogramas, em seu terminal, digite:\n",
    "    `npm install -g gatsby-cli`\n",
    "    \n",
    "O Gatsby CLI permite a criação de sites alimentados pelo Gatsby e roda comandos para o desenvolvimento de sites Gatsby. \n",
    "    \n",
    "Algo parecido com isso deve ser retornado:"
   ]
  },
  {
   "cell_type": "markdown",
   "metadata": {},
   "source": [
    "<img src=\"gatsby1.png\">\n"
   ]
  },
  {
   "cell_type": "markdown",
   "metadata": {},
   "source": [
    "Para visualizar os comandos disponíveis e suas funções, basta executar `gatsby --help`"
   ]
  },
  {
   "cell_type": "markdown",
   "metadata": {},
   "source": [
    "<img src=\"gatsby commands.png\">"
   ]
  },
  {
   "cell_type": "markdown",
   "metadata": {},
   "source": [
    "Com o Gatsby CLI instalado, agora podemos criar nosso website. \n",
    "\n",
    "Faremos isso com o seguinte comando:\n",
    "    `gatsby new (nome que você quer dar para o website)`\n",
    "\n",
    "No meu chamei de landing-mileage, então ficou:\n",
    "    `gatsby new landing-page-mileage`\n"
   ]
  },
  {
   "cell_type": "markdown",
   "metadata": {},
   "source": [
    "<img src=\"new-landing.png\">"
   ]
  },
  {
   "cell_type": "markdown",
   "metadata": {},
   "source": [
    "Pode ser que demore alguns segundos para que o Gatsby CLI instale e configure todos os documentos necessários. Assim que estiver carregado, teremos um website Gatsby pronto para podermos construir em cima."
   ]
  },
  {
   "cell_type": "markdown",
   "metadata": {},
   "source": [
    "Para acessá-lo é preciso entrar na pasta que criamos, no caso landing-mileage.\n",
    "Para isso utilizamos o comando:\n",
    "    `cd (nome que você deu para o website)`\n",
    "\n",
    "No caso, chamado de landing-page-mileage, portanto o comando:\n",
    "    `cd landing-page-mileage`\n",
    "\n"
   ]
  },
  {
   "cell_type": "markdown",
   "metadata": {},
   "source": [
    "<img src=\"cd.png\">"
   ]
  },
  {
   "cell_type": "markdown",
   "metadata": {},
   "source": [
    "Em seguida:\n",
    "    `gatsby develop`\n",
    "    \n",
    "Este comando da início ao desenvolvimento do servidor, assim como observa arquivos, reconstrói, e da hot reloads se algumas coisa mudar.Ele pode demorar um pouco mais do que os outros comandos.\n",
    " \n",
    "E depois: `gatsby build`\n",
    "\n",
    "*hot reloads é um termo utulizado quando apenas as páginas que foram modificadas são atualizadas, sem perder o estado do app"
   ]
  },
  {
   "cell_type": "markdown",
   "metadata": {},
   "source": [
    "<img src=\"local8000.png\">"
   ]
  },
  {
   "cell_type": "markdown",
   "metadata": {},
   "source": [
    "No final da resposta do prompt, o Gatsby irá indicar que para acessar \"gatsby-starter-default\" no seu browser.\n",
    "\n",
    " <a href=http://localhost:8000/>http://localhost:8000/</a>\n",
    "    \n",
    "Você chagará numa página como essa:\n",
    "\n"
   ]
  },
  {
   "cell_type": "markdown",
   "metadata": {},
   "source": [
    "<img src=\"gatsby default starter.png\">"
   ]
  },
  {
   "cell_type": "markdown",
   "metadata": {},
   "source": [
    "Curiosidade:\n",
    "O gatsby também indica visualizar o GraphiQL para explorar os dados e esquemas do seu site.\n",
    "    http://localhost:8000/___graphql"
   ]
  },
  {
   "cell_type": "markdown",
   "metadata": {},
   "source": [
    "Dentro do projeto instalado pelo Gatsby com o nome que demos (nesse caso landing-mileage), você encontrará várias pastas e arquivos diferentes:\n"
   ]
  },
  {
   "cell_type": "markdown",
   "metadata": {},
   "source": [
    "<img src=\"folders.png\">"
   ]
  },
  {
   "cell_type": "markdown",
   "metadata": {},
   "source": [
    "Vamos descobrir a função de cada um deles:\n",
    "\n",
    "**`gatsby-config.js`** -> configura opções para um site Gatsby, com metadata para o título do projeto, plugins, e outras coisas.\n",
    "\n",
    "**`gatsby-node.js`** -> implementa os APIs do Node.js do Gatsby para customizar e extender configurações padrão que afetam o processo de construção.\n",
    "\n",
    "**`gastby-browser.js`** - customiza e extende configurações padrão que afetam o navegador, utilizando os APIs do Gatsby.\n",
    "\n",
    "**`gatsby-ssr.js`** - utiliza os APIs de renderização do lado do servidor do Gatsby para customizar configurações padrão que afetam a renderização do lado do servidor."
   ]
  },
  {
   "cell_type": "markdown",
   "metadata": {},
   "source": [
    "Agora temos tudo necessário para construirmos nossa landing page. Vamos construí-la com base no template padrão do Gatsby quando acessamos o http://localhost:8000/.\n",
    "\n",
    "Abriremos os arquivos em um editor de código, nesse caso utilizei o _Sublime_, por ser o editor que mais uso quando lidando com HTML, CSS e JS.\n",
    "\n",
    "- No arquivo index.js a princípio podemos mudar o título do site e o parágrafo de introdução. \n",
    "\n",
    "\n",
    "- Já no arquivo image.js podemos inserir as imagens que queremos para a landing page. \n",
    "\n",
    "\n",
    "- No arquivo header.js controlamos a configuração do header da página.\n",
    "\n",
    "\n",
    "- No arquivo layout.css configuramos a parte mais estética da página."
   ]
  },
  {
   "cell_type": "markdown",
   "metadata": {},
   "source": [
    "Caso apareça uma tela como a abaixo durante o processo de desenvolvimento, apenas volte no prompt e execute o comando `gastby develop` novamente."
   ]
  },
  {
   "cell_type": "markdown",
   "metadata": {},
   "source": [
    "<img src=\"semacesso.png\">"
   ]
  },
  {
   "cell_type": "markdown",
   "metadata": {},
   "source": [
    "Das alterações que fiz, modifiquei a cor, fonte e conteúdo, assim como removi o link que levava o usuário para uma segunda página. Abaixo está o resultado:\n"
   ]
  },
  {
   "cell_type": "markdown",
   "metadata": {},
   "source": [
    "<img src=\"pagina.png\">"
   ]
  },
  {
   "cell_type": "markdown",
   "metadata": {},
   "source": [
    "### Contextualização"
   ]
  },
  {
   "cell_type": "markdown",
   "metadata": {},
   "source": [
    "Esse tema pode se encaixar no Insper Mileage quando se trata de criar um website para o projeto, assim como a interface de comunicação entre o piloto e a equipe. \n",
    "\n",
    "Como vimos acima, o Gatsby traz várias vantagens como a velocidade de carregamento da página, a segurança e a maior simplicidade de desenvolvimento."
   ]
  }
 ],
 "metadata": {
  "kernelspec": {
   "display_name": "Python 3",
   "language": "python",
   "name": "python3"
  },
  "language_info": {
   "codemirror_mode": {
    "name": "ipython",
    "version": 3
   },
   "file_extension": ".py",
   "mimetype": "text/x-python",
   "name": "python",
   "nbconvert_exporter": "python",
   "pygments_lexer": "ipython3",
   "version": "3.7.1"
  }
 },
 "nbformat": 4,
 "nbformat_minor": 2
}
